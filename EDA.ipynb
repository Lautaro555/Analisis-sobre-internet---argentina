{
 "cells": [
  {
   "cell_type": "code",
   "execution_count": 2,
   "metadata": {},
   "outputs": [],
   "source": [
    "import pandas as pd"
   ]
  },
  {
   "cell_type": "code",
   "execution_count": 109,
   "metadata": {},
   "outputs": [
    {
     "name": "stderr",
     "output_type": "stream",
     "text": [
      "c:\\Users\\Lautaro\\AppData\\Local\\Programs\\Python\\Python310\\lib\\site-packages\\openpyxl\\styles\\stylesheet.py:226: UserWarning: Workbook contains no default style, apply openpyxl's default\n",
      "  warn(\"Workbook contains no default style, apply openpyxl's default\")\n",
      "c:\\Users\\Lautaro\\AppData\\Local\\Programs\\Python\\Python310\\lib\\site-packages\\openpyxl\\styles\\stylesheet.py:226: UserWarning: Workbook contains no default style, apply openpyxl's default\n",
      "  warn(\"Workbook contains no default style, apply openpyxl's default\")\n",
      "c:\\Users\\Lautaro\\AppData\\Local\\Programs\\Python\\Python310\\lib\\site-packages\\openpyxl\\styles\\stylesheet.py:226: UserWarning: Workbook contains no default style, apply openpyxl's default\n",
      "  warn(\"Workbook contains no default style, apply openpyxl's default\")\n"
     ]
    }
   ],
   "source": [
    "Iporprovincia= pd.read_excel(r\"Datasets\\Internet_cada100_provincia.xlsx\")\n",
    "a=(Iporprovincia.groupby(['Provincia',\"Año\",'Trimestre'])['Accesos por cada 100 hogares'].sum().groupby(level=0).pct_change())*100\n",
    "b=pd.DataFrame(a)\n",
    "b[\"Variacion Trimestral\"]=b[\"Accesos por cada 100 hogares\"]\n",
    "b[\"Accesos por cada 100 hogares\"]=Iporprovincia.groupby(['Provincia',\"Año\",'Trimestre'])['Accesos por cada 100 hogares'].sum().values\n",
    "Iporprovincia=b\n",
    "\n",
    "Telporprovincia= pd.read_excel(r\"Datasets\\Acceso_telefonia_fija.xlsx\")\n",
    "Telporprovincia['Variación porcentual trimestral'] = Telporprovincia.groupby(['Trimestre'])['Accesos telefonía fija (total)'].pct_change()\n",
    "a=(Telporprovincia.groupby(['Provincia',\"Año\",'Trimestre'])['Accesos telefonía fija (total)'].sum().groupby(level=0).pct_change())*100\n",
    "b=pd.DataFrame(a)\n",
    "b[\"Variacion Trimestral\"]=b['Accesos telefonía fija (total)']\n",
    "b[\"'Accesos telefonía fija (total)'\"]=Telporprovincia.groupby(['Provincia',\"Año\",'Trimestre'])['Accesos telefonía fija (total)'].sum().values\n",
    "Telporprovincia=b\n",
    "\n",
    "TVporprovincia= pd.read_excel(r\"Datasets\\Acceso_television_provincia.xlsx\")\n",
    "TVporprovincia['Variación porcentual trimestral'] = TVporprovincia.groupby(['Trimestre'])['Accesos TV por suscripción'].pct_change()\n",
    "a=(TVporprovincia.groupby(['Provincia',\"Año\",'Trimestre'])['Accesos TV por suscripción'].sum().groupby(level=0).pct_change())*100\n",
    "b=pd.DataFrame(a)\n",
    "b[\"Variacion Trimestral\"]=b[\"Accesos TV por suscripción\"]\n",
    "b[\"Accesos TV por suscripción\"]=TVporprovincia.groupby(['Provincia',\"Año\",'Trimestre'])['Accesos TV por suscripción'].sum().values\n",
    "TVporprovincia=b"
   ]
  },
  {
   "cell_type": "code",
   "execution_count": 112,
   "metadata": {},
   "outputs": [],
   "source": [
    "Iporprovincia.to_csv(r\"Datasets_modificados\\internet_cada_100.csv\",encoding=\"utf-8\")\n",
    "Telporprovincia.to_csv(r\"Datasets_modificados\\tel_por_provincia.csv\",encoding=\"utf-8\")\n",
    "TVporprovincia.to_csv(r\"Datasets_modificados\\tv_por_provincia.csv\",encoding=\"utf-8\")"
   ]
  }
 ],
 "metadata": {
  "kernelspec": {
   "display_name": "Python 3",
   "language": "python",
   "name": "python3"
  },
  "language_info": {
   "codemirror_mode": {
    "name": "ipython",
    "version": 3
   },
   "file_extension": ".py",
   "mimetype": "text/x-python",
   "name": "python",
   "nbconvert_exporter": "python",
   "pygments_lexer": "ipython3",
   "version": "3.10.7"
  },
  "orig_nbformat": 4,
  "vscode": {
   "interpreter": {
    "hash": "2711725d473bbbc5495942fb8452d9b92540956864e278750e6f52a820e4fcee"
   }
  }
 },
 "nbformat": 4,
 "nbformat_minor": 2
}
